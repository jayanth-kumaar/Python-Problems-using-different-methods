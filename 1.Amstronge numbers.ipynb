{
 "cells": [
  {
   "cell_type": "code",
   "execution_count": 1,
   "id": "0e2a4091-8802-4dee-bfa4-24ec95ec1783",
   "metadata": {},
   "outputs": [
    {
     "name": "stdin",
     "output_type": "stream",
     "text": [
      "Enter the number :  371\n"
     ]
    },
    {
     "name": "stdout",
     "output_type": "stream",
     "text": [
      "371 is amstronge number!\n"
     ]
    }
   ],
   "source": [
    "strnum = input(\"Enter the number : \")\n",
    "cubenum = [(int(i))**3 for i in strnum]\n",
    "finalnum = sum(i for i in cubenum)\n",
    "\n",
    "if int(strnum) == finalnum:\n",
    "    print(f\"{strnum} is amstronge number!\")\n",
    "else:\n",
    "    print(f\"{strnum} is not amstronge number!\")\n"
   ]
  },
  {
   "cell_type": "code",
   "execution_count": 3,
   "id": "46fb2930-77f7-4225-b89a-8d3a14303754",
   "metadata": {},
   "outputs": [
    {
     "name": "stdout",
     "output_type": "stream",
     "text": [
      "[0, 1, 153, 370, 371, 407]\n"
     ]
    }
   ],
   "source": [
    "# for finding all 3 digit numbers.\n",
    "x = []\n",
    "for j in range(100000):\n",
    "    if j == sum([int(i)**3 for i in str(j)]):\n",
    "        x.append(j)\n",
    "print(x)"
   ]
  },
  {
   "cell_type": "code",
   "execution_count": 5,
   "id": "e64798a1-70d5-4d7d-9f69-717eec3c33c3",
   "metadata": {},
   "outputs": [
    {
     "name": "stdout",
     "output_type": "stream",
     "text": [
      "[0, 1, 2, 3, 4, 5, 6, 7, 8, 9, 153, 370, 371, 407, 1634, 8208, 9474, 54748, 92727, 93084]\n"
     ]
    }
   ],
   "source": [
    "# for finding all n digit numbers.\n",
    "x = []\n",
    "for j in range(100000):\n",
    "    n = len(str(j))\n",
    "    if j == sum([int(i)**n for i in str(j)]):\n",
    "        x.append(j)\n",
    "print(x)"
   ]
  },
  {
   "cell_type": "code",
   "execution_count": 11,
   "id": "57f4402c-ce63-4114-bfc6-d67291f090e3",
   "metadata": {},
   "outputs": [
    {
     "name": "stdin",
     "output_type": "stream",
     "text": [
      "Enter the number : 370\n"
     ]
    },
    {
     "name": "stdout",
     "output_type": "stream",
     "text": [
      "True\n"
     ]
    }
   ],
   "source": [
    "# Without using the int to str\n",
    "\n",
    "num = int(input('Enter the number :'))\n",
    "digits = []\n",
    "original = num\n",
    "n = 0\n",
    "while num > 0:\n",
    "    n += 1\n",
    "    digits.append(num%10)\n",
    "    num //= 10\n",
    "print(original == sum(i**n for i in digits))\n"
   ]
  },
  {
   "cell_type": "code",
   "execution_count": 13,
   "id": "469bffea-a1b6-41bf-ad5f-b0161f6238d4",
   "metadata": {},
   "outputs": [
    {
     "name": "stdin",
     "output_type": "stream",
     "text": [
      "Enter the number : 153\n"
     ]
    },
    {
     "name": "stdout",
     "output_type": "stream",
     "text": [
      "True\n"
     ]
    }
   ],
   "source": [
    "# Method -2 Without using the int to str\n",
    "num = int(input('Enter the number :'))\n",
    "amstrongesum = 0\n",
    "original = num\n",
    "n = 0\n",
    "while num > 0:\n",
    "    n += 1\n",
    "    num //= 10\n",
    "num = original\n",
    "while num > 0:\n",
    "    amstrongesum += (num%10)**n\n",
    "    num //= 10\n",
    "print(original==amstrongesum)"
   ]
  },
  {
   "cell_type": "code",
   "execution_count": null,
   "id": "97bdc154-22fd-4423-8fd5-81189331bce7",
   "metadata": {},
   "outputs": [],
   "source": []
  }
 ],
 "metadata": {
  "kernelspec": {
   "display_name": "Python 3 (ipykernel)",
   "language": "python",
   "name": "python3"
  },
  "language_info": {
   "codemirror_mode": {
    "name": "ipython",
    "version": 3
   },
   "file_extension": ".py",
   "mimetype": "text/x-python",
   "name": "python",
   "nbconvert_exporter": "python",
   "pygments_lexer": "ipython3",
   "version": "3.12.7"
  }
 },
 "nbformat": 4,
 "nbformat_minor": 5
}
