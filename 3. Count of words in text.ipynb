{
 "cells": [
  {
   "cell_type": "code",
   "execution_count": 43,
   "id": "5f4db2ad-c820-444d-9bf2-3d0d8e3dd227",
   "metadata": {},
   "outputs": [
    {
     "name": "stdout",
     "output_type": "stream",
     "text": [
      "{'I': 2, 'am': 2, 'jayanth': 1, 'intrested': 1, 'in': 1, 'learning': 1, 'ML': 1}\n"
     ]
    }
   ],
   "source": [
    "# Count of a words in a sentance\n",
    "# next method\n",
    "text = 'I am jayanth, I am intrested in learning ML'.replace(',','').split()\n",
    "word_count = {}\n",
    "for i in text:\n",
    "    if i in word_count:\n",
    "        word_count[i] += 1\n",
    "    else:\n",
    "        word_count[i] = 1\n",
    "print(word_count)"
   ]
  },
  {
   "cell_type": "code",
   "execution_count": 41,
   "id": "363de3b9-050d-4c8a-93d6-55320dcdd96a",
   "metadata": {},
   "outputs": [
    {
     "name": "stdout",
     "output_type": "stream",
     "text": [
      "Counter({'I': 2, 'am': 2, 'jayanth': 1, 'intrested': 1, 'in': 1, 'learning': 1, 'ML': 1})\n"
     ]
    }
   ],
   "source": [
    "# next method\n",
    "from collections import Counter\n",
    "word_count_list = Counter(text)\n",
    "print(word_count_list)"
   ]
  },
  {
   "cell_type": "code",
   "execution_count": 49,
   "id": "364d2d7e-d4da-4b4c-9d3a-c8704d7c866e",
   "metadata": {},
   "outputs": [
    {
     "name": "stdout",
     "output_type": "stream",
     "text": [
      "{'ML': 1, 'learning': 1, 'am': 2, 'I': 2, 'in': 1, 'jayanth': 1, 'intrested': 1}\n"
     ]
    }
   ],
   "source": [
    "# next method\n",
    "print(countWord := {word: text.count(word) for word in set(text)})"
   ]
  },
  {
   "cell_type": "code",
   "execution_count": 47,
   "id": "036cd72a-84af-4278-9b94-00a214d4c645",
   "metadata": {},
   "outputs": [
    {
     "name": "stdout",
     "output_type": "stream",
     "text": [
      "'am' is repeted 2 times!\n"
     ]
    }
   ],
   "source": [
    "# next method\n",
    "word = 'am'\n",
    "count = 0\n",
    "for i in text:\n",
    "    if word == i:\n",
    "        count += 1\n",
    "print(f\"'{word}' is repeted {count} times!\")"
   ]
  },
  {
   "cell_type": "code",
   "execution_count": 51,
   "id": "f97ee329-2828-41be-a83a-25da5b5dce7d",
   "metadata": {},
   "outputs": [
    {
     "name": "stdout",
     "output_type": "stream",
     "text": [
      "2\n"
     ]
    }
   ],
   "source": [
    "# next method\n",
    "print(count1 := sum(1 for word in text if word == 'am'))"
   ]
  },
  {
   "cell_type": "code",
   "execution_count": 53,
   "id": "11cd6cfe-8ace-4da8-b367-d5d8d4d7c0fc",
   "metadata": {},
   "outputs": [
    {
     "name": "stdout",
     "output_type": "stream",
     "text": [
      "2\n"
     ]
    }
   ],
   "source": [
    "# next method\n",
    "print(text.count('am'))"
   ]
  },
  {
   "cell_type": "code",
   "execution_count": null,
   "id": "d9346d4d-5622-456d-9cac-dacf704bd268",
   "metadata": {},
   "outputs": [],
   "source": []
  }
 ],
 "metadata": {
  "kernelspec": {
   "display_name": "Python 3 (ipykernel)",
   "language": "python",
   "name": "python3"
  },
  "language_info": {
   "codemirror_mode": {
    "name": "ipython",
    "version": 3
   },
   "file_extension": ".py",
   "mimetype": "text/x-python",
   "name": "python",
   "nbconvert_exporter": "python",
   "pygments_lexer": "ipython3",
   "version": "3.12.7"
  }
 },
 "nbformat": 4,
 "nbformat_minor": 5
}
