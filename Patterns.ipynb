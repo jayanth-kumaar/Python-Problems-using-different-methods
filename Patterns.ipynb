{
 "cells": [
  {
   "cell_type": "code",
   "execution_count": 145,
   "id": "543c9e22-b20d-409e-a21c-d72f8c26175d",
   "metadata": {},
   "outputs": [
    {
     "name": "stdout",
     "output_type": "stream",
     "text": [
      "*\n",
      "**\n",
      "***\n",
      "****\n",
      "*****\n",
      "******\n"
     ]
    }
   ],
   "source": [
    "n = 7\n",
    "for i in range(1,n):\n",
    "    print('*'*i)"
   ]
  },
  {
   "cell_type": "code",
   "execution_count": 41,
   "id": "7dffdd3d-8a32-4f45-840b-8090c7879059",
   "metadata": {},
   "outputs": [
    {
     "name": "stdout",
     "output_type": "stream",
     "text": [
      "*\n",
      "**\n",
      "***\n",
      "****\n",
      "*****\n",
      "******\n"
     ]
    },
    {
     "data": {
      "text/plain": [
       "[None, None, None, None, None, None]"
      ]
     },
     "execution_count": 41,
     "metadata": {},
     "output_type": "execute_result"
    }
   ],
   "source": [
    "[print('*'*i) for i in range(1,n)]\n"
   ]
  },
  {
   "cell_type": "code",
   "execution_count": 45,
   "id": "16324131-0948-4b54-8e12-e9357cee8d14",
   "metadata": {},
   "outputs": [
    {
     "name": "stdout",
     "output_type": "stream",
     "text": [
      "*\n",
      "**\n",
      "***\n",
      "****\n",
      "*****\n",
      "******\n"
     ]
    }
   ],
   "source": [
    "print('\\n'.join('*'*i for i in range(1,n)))"
   ]
  },
  {
   "cell_type": "code",
   "execution_count": 47,
   "id": "1bace1f0-30b7-4d97-a97e-a7310b41a41b",
   "metadata": {},
   "outputs": [
    {
     "name": "stdout",
     "output_type": "stream",
     "text": [
      "*******\n",
      "******\n",
      "*****\n",
      "****\n",
      "***\n",
      "**\n",
      "*\n"
     ]
    }
   ],
   "source": [
    "for i in range(n,0,-1):\n",
    "    print('*'*i)"
   ]
  },
  {
   "cell_type": "code",
   "execution_count": 57,
   "id": "5b591cdb-0f95-4372-9e4a-15d93d799bcf",
   "metadata": {},
   "outputs": [
    {
     "name": "stdout",
     "output_type": "stream",
     "text": [
      "*******\n",
      "******\n",
      "*****\n",
      "****\n",
      "***\n",
      "**\n",
      "*\n"
     ]
    },
    {
     "data": {
      "text/plain": [
       "[None, None, None, None, None, None, None]"
      ]
     },
     "execution_count": 57,
     "metadata": {},
     "output_type": "execute_result"
    }
   ],
   "source": [
    "[print('*'*i) for i in range(n,0,-1)]"
   ]
  },
  {
   "cell_type": "code",
   "execution_count": 59,
   "id": "6e2cefa6-9cc3-4858-b469-c962d8d7deec",
   "metadata": {},
   "outputs": [
    {
     "name": "stdout",
     "output_type": "stream",
     "text": [
      "*******\n",
      "******\n",
      "*****\n",
      "****\n",
      "***\n",
      "**\n",
      "*\n"
     ]
    }
   ],
   "source": [
    "print('\\n'.join('*'*i for i in range(n,0,-1)))"
   ]
  },
  {
   "cell_type": "code",
   "execution_count": 65,
   "id": "a61cdf07-283d-45ad-b9e1-e0ce2164b66d",
   "metadata": {},
   "outputs": [
    {
     "name": "stdout",
     "output_type": "stream",
     "text": [
      "*******\n",
      " ******\n",
      "  *****\n",
      "   ****\n",
      "    ***\n",
      "     **\n",
      "      *\n"
     ]
    }
   ],
   "source": [
    "for i in range(n,0,-1):\n",
    "    print(' '*(n-i)+'*'*i)"
   ]
  },
  {
   "cell_type": "code",
   "execution_count": 67,
   "id": "eb12a6e9-b437-435f-9843-c3bb1e599025",
   "metadata": {},
   "outputs": [
    {
     "name": "stdout",
     "output_type": "stream",
     "text": [
      "*******\n",
      " ******\n",
      "  *****\n",
      "   ****\n",
      "    ***\n",
      "     **\n",
      "      *\n"
     ]
    }
   ],
   "source": [
    "print('\\n'.join(' '*(n-i)+'*'*i for i in range(n,0,-1)))"
   ]
  },
  {
   "cell_type": "code",
   "execution_count": 73,
   "id": "473d86ef-2cd1-4adf-803b-add8b0208083",
   "metadata": {},
   "outputs": [
    {
     "name": "stdout",
     "output_type": "stream",
     "text": [
      "*******\n",
      " ******\n",
      "  *****\n",
      "   ****\n",
      "    ***\n",
      "     **\n",
      "      *\n"
     ]
    },
    {
     "data": {
      "text/plain": [
       "[None, None, None, None, None, None, None]"
      ]
     },
     "execution_count": 73,
     "metadata": {},
     "output_type": "execute_result"
    }
   ],
   "source": [
    "[print(' '*(n-i) + '*'*i) for i in range(n,0,-1) ]\n"
   ]
  },
  {
   "cell_type": "code",
   "execution_count": 75,
   "id": "f2b1893d-74d7-444f-a573-11ad22e781e3",
   "metadata": {},
   "outputs": [
    {
     "name": "stdout",
     "output_type": "stream",
     "text": [
      "       *******\n",
      "       ******\n",
      "       *****\n",
      "       ****\n",
      "       ***\n",
      "       **\n",
      "       *\n"
     ]
    },
    {
     "data": {
      "text/plain": [
       "[None, None, None, None, None, None, None]"
      ]
     },
     "execution_count": 75,
     "metadata": {},
     "output_type": "execute_result"
    }
   ],
   "source": [
    "[print(' '*n + '*'*i) for i in range(n,0,-1) ]"
   ]
  },
  {
   "cell_type": "code",
   "execution_count": 77,
   "id": "304478f1-afd2-45d3-85f8-9cc779bcfc97",
   "metadata": {},
   "outputs": [
    {
     "name": "stdout",
     "output_type": "stream",
     "text": [
      "       *******\n",
      "       ******\n",
      "       *****\n",
      "       ****\n",
      "       ***\n",
      "       **\n",
      "       *\n"
     ]
    }
   ],
   "source": [
    "print('\\n'.join(' '*n + '*'*i for i in range(n,0,-1)))"
   ]
  },
  {
   "cell_type": "code",
   "execution_count": 79,
   "id": "53e7afa1-065b-4bd8-83bd-8e9911fe40cc",
   "metadata": {},
   "outputs": [
    {
     "name": "stdout",
     "output_type": "stream",
     "text": [
      "       \n",
      "      *\n",
      "     **\n",
      "    ***\n",
      "   ****\n",
      "  *****\n",
      " ******\n"
     ]
    }
   ],
   "source": [
    "for i in range(n):\n",
    "    print(' '*(n-i)+'*'*i)"
   ]
  },
  {
   "cell_type": "code",
   "execution_count": 85,
   "id": "e98268d3-4c78-4a00-a6f2-2230a70f9b53",
   "metadata": {},
   "outputs": [
    {
     "name": "stdout",
     "output_type": "stream",
     "text": [
      "       \n",
      "      *\n",
      "     **\n",
      "    ***\n",
      "   ****\n",
      "  *****\n",
      " ******\n"
     ]
    }
   ],
   "source": [
    "print('\\n'.join(' '*(n-i) + '*'*i for i in range(n)))"
   ]
  },
  {
   "cell_type": "code",
   "execution_count": 91,
   "id": "30b74a2d-c450-4d6b-bd08-05a0d465c18f",
   "metadata": {},
   "outputs": [
    {
     "name": "stdout",
     "output_type": "stream",
     "text": [
      "*******\n",
      "*    *\n",
      "*   *\n",
      "*  *\n",
      "* *\n",
      "**\n",
      "*\n"
     ]
    }
   ],
   "source": [
    "for i in range(n,0,-1):\n",
    "    for j in range(i):\n",
    "        if i == n or j == 0 or j == i-1:\n",
    "            print('*',end='')\n",
    "        else:\n",
    "            print(' ',end='')\n",
    "    print()"
   ]
  },
  {
   "cell_type": "code",
   "execution_count": 99,
   "id": "7c3c6947-1f89-4a85-b46b-471f88ba8a0b",
   "metadata": {},
   "outputs": [
    {
     "name": "stdout",
     "output_type": "stream",
     "text": [
      "*******\n",
      "*    *\n",
      "*   *\n",
      "*  *\n",
      "* *\n",
      "**\n",
      "*\n"
     ]
    }
   ],
   "source": [
    "print('\\n'.join(''.join('*' if i==n or j==0 or j==i-1 else ' ' for j in range(i)) for i in range(n,0,-1)))"
   ]
  },
  {
   "cell_type": "code",
   "execution_count": 125,
   "id": "e2d29354-f046-43c9-89cc-cf8d0bf2e7ec",
   "metadata": {},
   "outputs": [
    {
     "name": "stdout",
     "output_type": "stream",
     "text": [
      "*******\n",
      "*    *\n",
      "*   *\n",
      "*  *\n",
      "* *\n",
      "**\n",
      "*\n"
     ]
    }
   ],
   "source": [
    "for i in range(n,0,-1):\n",
    "    if i == 1:\n",
    "        print('*')\n",
    "    elif i == n:\n",
    "        print('*'*n)\n",
    "    else:\n",
    "        print('*'+' '*(i-2)+'*')"
   ]
  },
  {
   "cell_type": "code",
   "execution_count": 113,
   "id": "79f570c6-ab9a-40da-bc3f-c4f250bae143",
   "metadata": {},
   "outputs": [
    {
     "name": "stdout",
     "output_type": "stream",
     "text": [
      "*\n",
      "**\n",
      "* *\n",
      "*  *\n",
      "*   *\n",
      "*    *\n",
      "*******\n"
     ]
    }
   ],
   "source": [
    "for i in range(1,n+1):\n",
    "    for j in range(i):\n",
    "        if j==0 or j==i-1 or i==n:\n",
    "            print('*',end='')\n",
    "        else:\n",
    "            print(' ',end='')\n",
    "    print()"
   ]
  },
  {
   "cell_type": "code",
   "execution_count": 147,
   "id": "1bb3d3f1-915e-4f8f-8bd6-c8f0f2c5cdb7",
   "metadata": {},
   "outputs": [
    {
     "name": "stdout",
     "output_type": "stream",
     "text": [
      "*\n",
      "**\n",
      "* *\n",
      "*  *\n",
      "*   *\n",
      "*    *\n",
      "*******\n"
     ]
    }
   ],
   "source": [
    "\n",
    "for i in range(1,n+1):\n",
    "    if i == 1:\n",
    "        print('*')\n",
    "    elif i == n:\n",
    "        print('*'*n)\n",
    "    else:\n",
    "        print('*'+' '*(i-2)+'*')\n"
   ]
  },
  {
   "cell_type": "code",
   "execution_count": 151,
   "id": "fa49dd45-6654-4828-bc00-be4db0544461",
   "metadata": {},
   "outputs": [
    {
     "name": "stdout",
     "output_type": "stream",
     "text": [
      "*\n",
      "**\n",
      "* *\n",
      "*  *\n",
      "*   *\n",
      "*    *\n",
      "*******\n"
     ]
    }
   ],
   "source": [
    "print('\\n'.join('*' if i==1 else '*'*n if i==n else '*'+' '*(i-2)+'*' for i in range(1,n+1)))"
   ]
  },
  {
   "cell_type": "code",
   "execution_count": 153,
   "id": "b8572718-e3d1-4efa-bc0e-badb98b4f027",
   "metadata": {},
   "outputs": [
    {
     "name": "stdout",
     "output_type": "stream",
     "text": [
      "       \n",
      "      *\n",
      "     **\n",
      "    ***\n",
      "   ****\n",
      "  *****\n",
      " ******\n"
     ]
    }
   ],
   "source": [
    "print('\\n'.join(' '*(n-i) + '*'*i for i in range(n)))"
   ]
  },
  {
   "cell_type": "code",
   "execution_count": 171,
   "id": "e65a77dc-b8b7-4e24-add6-02038ca72be1",
   "metadata": {},
   "outputs": [
    {
     "name": "stdout",
     "output_type": "stream",
     "text": [
      "      *\n",
      "     **\n",
      "    * *\n",
      "   *  *\n",
      "  *   *\n",
      " *    *\n",
      "*******\n"
     ]
    }
   ],
   "source": [
    "for i in range(1,n+1):\n",
    "    if i == 1:\n",
    "        print(' '*(n-i)+'*')\n",
    "    elif i == n:\n",
    "        print('*'*n)\n",
    "    else:\n",
    "        print(' '*(n-i) + ('*' + ' '*(i-2) +'*'))"
   ]
  },
  {
   "cell_type": "code",
   "execution_count": 245,
   "id": "63c3a492-1177-4f87-afa5-20a4eaa7ebcf",
   "metadata": {},
   "outputs": [
    {
     "name": "stdout",
     "output_type": "stream",
     "text": [
      "     *\n",
      "    ***\n",
      "   *****\n",
      "  *******\n",
      " *********\n",
      "***********\n"
     ]
    }
   ],
   "source": [
    "n = 11\n",
    "for i in range(1,n+1,2):\n",
    "    print(' '*((n-i)//2) + '*'*i )"
   ]
  },
  {
   "cell_type": "code",
   "execution_count": 243,
   "id": "879fe0e2-8028-4e9c-8c54-6268cef2fc2d",
   "metadata": {},
   "outputs": [
    {
     "name": "stdout",
     "output_type": "stream",
     "text": [
      "     *\n",
      "    ***\n",
      "   *****\n",
      "  *******\n",
      " *********\n",
      "***********\n"
     ]
    }
   ],
   "source": [
    "print('\\n'.join(' '*((n-i)//2) + '*'*i for i in range(1,n+1,2)))"
   ]
  },
  {
   "cell_type": "code",
   "execution_count": 241,
   "id": "ee897c41-8088-4792-9402-6a55b92053b9",
   "metadata": {},
   "outputs": [
    {
     "name": "stdout",
     "output_type": "stream",
     "text": [
      "***********\n",
      " *********\n",
      "  *******\n",
      "   *****\n",
      "    ***\n",
      "     *\n"
     ]
    }
   ],
   "source": [
    "for i in range(n,0,-2):\n",
    "    print(' '*((n-i)//2) + '*'*i)"
   ]
  },
  {
   "cell_type": "code",
   "execution_count": 249,
   "id": "1a6ed1df-a75b-4d05-a56a-e8926d01f309",
   "metadata": {},
   "outputs": [
    {
     "name": "stdout",
     "output_type": "stream",
     "text": [
      "***********\n",
      " *       *\n",
      "  *     *\n",
      "   *   *\n",
      "    * *\n",
      "     *\n"
     ]
    }
   ],
   "source": [
    "for i in range(n,0,-2):\n",
    "    if i == n:\n",
    "        print(' '*((n-i)//2)+'*'*n)\n",
    "    elif i == 1:\n",
    "        print(' '*((n-i)//2)+'*')\n",
    "    else:\n",
    "        print(' '*((n-i)//2)+'*'+' '*(i-2)+'*')"
   ]
  },
  {
   "cell_type": "code",
   "execution_count": null,
   "id": "5f73516f-8a68-46a3-8bad-4a327d568691",
   "metadata": {},
   "outputs": [],
   "source": []
  }
 ],
 "metadata": {
  "kernelspec": {
   "display_name": "Python 3 (ipykernel)",
   "language": "python",
   "name": "python3"
  },
  "language_info": {
   "codemirror_mode": {
    "name": "ipython",
    "version": 3
   },
   "file_extension": ".py",
   "mimetype": "text/x-python",
   "name": "python",
   "nbconvert_exporter": "python",
   "pygments_lexer": "ipython3",
   "version": "3.12.7"
  }
 },
 "nbformat": 4,
 "nbformat_minor": 5
}
